{
 "cells": [
  {
   "cell_type": "markdown",
   "metadata": {
    "slideshow": {
     "slide_type": "slide"
    }
   },
   "source": [
    "# Tutorial de Pygame PyBR13\n",
    "\n",
    "\n",
    "\n",
    "\n",
    "### Julio Melanda\n",
    "\n",
    "#### Python Brasil 13\n",
    "\n",
    "##### Outubro, 2017\n"
   ]
  },
  {
   "cell_type": "markdown",
   "metadata": {
    "slideshow": {
     "slide_type": "slide"
    }
   },
   "source": [
    "# Pygame\n",
    "\n",
    "Pygame é uma game engine escrita em python que permite o uso de OpenGL ou SDL para criar jogos.\n",
    "\n",
    "Pygame pode ser usada tanto para criar jogos 2D quanto 3D."
   ]
  },
  {
   "cell_type": "markdown",
   "metadata": {
    "slideshow": {
     "slide_type": "slide"
    }
   },
   "source": [
    "# Primeiros passos\n",
    "\n",
    "Primeiro, com Python devidamente instalado, instalamos pygame no ambiente virtual com\n",
    "```\n",
    "pip install pygame\n",
    "``` \n",
    "Após a instalação do pygame, vamos testar.\n",
    "\n",
    "Acesse o shell do python e rode os comandos:"
   ]
  },
  {
   "cell_type": "code",
   "execution_count": null,
   "metadata": {},
   "outputs": [],
   "source": [
    "import pygame\n",
    "print(pygame.version.ver)"
   ]
  },
  {
   "cell_type": "markdown",
   "metadata": {
    "slideshow": {
     "slide_type": "slide"
    }
   },
   "source": [
    "# Hello World\n",
    "\n",
    "Vamos começar como sempre começamos algo novo, não?\n",
    "\n",
    "Copie o código para um arquivo .py e salve. helloworld.py é um bom nome, não?\n",
    "\n",
    "O código pode parecer um pouco complexo a princípio, mas vamos vê-lo ponto a ponto."
   ]
  },
  {
   "cell_type": "code",
   "execution_count": null,
   "metadata": {
    "slideshow": {
     "slide_type": "slide"
    }
   },
   "outputs": [],
   "source": [
    "#! /usr/bin/env python\n",
    "import pygame\n",
    "from pygame.locals import *\n",
    "from sys import exit\n",
    "\n",
    "pygame.init()\n",
    "\n",
    "screen = pygame.display.set_mode((640, 480), 0, 32)\n",
    "\n",
    "pygame.display.set_caption('Hello World')\n",
    "\n",
    "while True:\n",
    "    for event in pygame.event.get():\n",
    "        if event.type == QUIT:\n",
    "            exit()\n",
    "    screen.blit(pygame.Surface(screen.get_size()), (0, 0))\n",
    "    pygame.display.update()"
   ]
  },
  {
   "cell_type": "markdown",
   "metadata": {
    "slideshow": {
     "slide_type": "slide"
    }
   },
   "source": [
    "# Executando\n",
    "\n",
    "Execute o programa com\n",
    "\n",
    "```\n",
    "python helloworld.\n",
    "```"
   ]
  },
  {
   "cell_type": "code",
   "execution_count": null,
   "metadata": {},
   "outputs": [],
   "source": [
    "%run helloworld.py"
   ]
  },
  {
   "cell_type": "markdown",
   "metadata": {
    "slideshow": {
     "slide_type": "notes"
    }
   },
   "source": [
    "Vamos agora aos detalhes?\n",
    "\n",
    "A linha 1 indica para o bash em sistemas Unix-like que se executarmos diretamente o script, o conteúdo deve ser tratado pelo interpretador do Python.\n",
    "\n",
    "Na linha seguinte, importamos o pygame.\n",
    "\n",
    "Em seguida, importamos todas as constantes e funções que o pygame fornece por padrão no módulo pygame.locals. Finalmente fechamos os imports imporatndo exit, que nos permite finalizar o programa retornando um status, que pode ser usado para verificação de erros, por exemplo. O padrão para uma execução de sucesso é 0.\n",
    "\n",
    "A próxima linha é uma das mais importantes, pois ela que permite usarmos a engine do pygame. pygame.init() vai preparar a engine para podermos iniciar nosso jogo!\n",
    "\n",
    "O próximo passo é criar a superfície basica do jogo. Nela serão plotados todos os pixels do jogo, assim, chamamos esta superfície de screen.\n",
    "\n",
    "A última configuração feita é setar o título da tela, que será \"Hello World\".\n",
    "\n",
    "Agora, temo um while infinito. Dentro dele, verificamos os eventos que o pygame recebe. Pygame pode tratar uma grande quantidade de eventos.\n",
    "\n",
    "Quando o evento detectado for QUIT, que é ativado pelo clique no X de fechar a janela, o programa será encerrado. Depois desta verificação, adicionamos uma superfície totalmente preta e do mesmo tamanho de nossa tela. Este será o fundo de nosso jogo.\n",
    "\n",
    "O último passo é mandar a tela atualizar."
   ]
  },
  {
   "cell_type": "markdown",
   "metadata": {
    "slideshow": {
     "slide_type": "slide"
    }
   },
   "source": [
    "# Game Loop\n",
    "\n",
    "Este while abaixo é o que chamamos de game loop.\n",
    "\n",
    "Um while infinito, que vai ser usado a cada iteração do game, para tratar eventos e atualizar a tela."
   ]
  },
  {
   "cell_type": "code",
   "execution_count": null,
   "metadata": {},
   "outputs": [],
   "source": [
    "while True:\n",
    "    for event in pygame.event.get():\n",
    "        if event.type == QUIT:\n",
    "            exit()\n",
    "    screen.blit(pygame.Surface(screen.get_size()), (0, 0))\n",
    "    pygame.display.update()"
   ]
  },
  {
   "cell_type": "markdown",
   "metadata": {
    "slideshow": {
     "slide_type": "slide"
    }
   },
   "source": [
    "Agora vamos mudar este while para o seguinte código"
   ]
  },
  {
   "cell_type": "code",
   "execution_count": null,
   "metadata": {},
   "outputs": [],
   "source": [
    "count = 0\n",
    "while True:\n",
    "    for event in pygame.event.get():\n",
    "        if event.type == QUIT:\n",
    "            print(count)\n",
    "            exit()\n",
    "    count += 1\n",
    "    screen.blit(pygame.Surface(screen.get_size()), (0, 0))\n",
    "    pygame.display.update() "
   ]
  },
  {
   "cell_type": "markdown",
   "metadata": {
    "slideshow": {
     "slide_type": "slide"
    }
   },
   "source": [
    "Imagine este código sendo executado em duas máquinas diferentes, uma com um processador de 800MHz e outra com processador de 2.5GHz\n",
    "\n",
    "É bastante plausível imaginar que ao finalizarmos a execução do código com o mesmo tempo em ambas máquinas, haverá uma diferença enorme na contagem de ciclos, tendo a máquina com processador de 2.5 GHz uma contagem muito maior que a de 800 MHz.\n",
    "\n",
    "Vamos experimentar."
   ]
  },
  {
   "cell_type": "code",
   "execution_count": null,
   "metadata": {},
   "outputs": [],
   "source": [
    "%run helloworld2.py"
   ]
  },
  {
   "cell_type": "markdown",
   "metadata": {
    "slideshow": {
     "slide_type": "slide"
    }
   },
   "source": [
    "Na prática, isto significa que o jogo roda mais rápido em máquinas mais rápidas e mais devagar nas mais lentas. O problema é que isto pode gerar sérios problemas para o jogador.\n",
    "\n",
    "Imagine um jogo projetado no computador de 800 MHz e que roda muito mais rápido na máquina de 2.5 GHz. Os obstáculos se movendo muito mais rápido do que deveriam, podem tornar o jogo simplesmente impossível de jogar.\n",
    "\n",
    "Para isto, temos um recurso que permite controlar a quantidade de ciclos máximos em um segundo.\n",
    "\n",
    "```\n",
    "pygame.time.Clock()\n",
    "```"
   ]
  },
  {
   "cell_type": "markdown",
   "metadata": {
    "slideshow": {
     "slide_type": "slide"
    }
   },
   "source": [
    "Vamos alterar nosso game loop para usá-lo"
   ]
  },
  {
   "cell_type": "code",
   "execution_count": null,
   "metadata": {
    "slideshow": {
     "slide_type": "-"
    }
   },
   "outputs": [],
   "source": [
    "count = 0\n",
    "clock = pygame.time.Clock()\n",
    "while True:\n",
    "    for event in pygame.event.get():\n",
    "        if event.type == QUIT:\n",
    "            exit()\n",
    "    count += 1\n",
    "    print(count)\n",
    "    screen.blit(pygame.Surface(screen.get_size()), (0, 0))\n",
    "    pygame.display.update()\n",
    "    time_passed = clock.tick(30)"
   ]
  },
  {
   "cell_type": "code",
   "execution_count": null,
   "metadata": {},
   "outputs": [],
   "source": [
    "%run helloworld3.py"
   ]
  },
  {
   "cell_type": "markdown",
   "metadata": {
    "slideshow": {
     "slide_type": "slide"
    }
   },
   "source": [
    "Na realidade, `time_passes` e o parâmetro `30` não são necessários.\n",
    "\n",
    "`clock.tick` retorna um valor em milisegundos referente a quanto tempo passou desde sua última chamada. Assim, `time_passed` pode ser uma informação valiosa para muits jogos. Já o parâmetro que usamos (30) é um limitador. Ao fazermos `clock.tick(30)` o pygame irá garantir que o jogo não execute mais de 30 iterações por segundo.\n",
    "\n",
    "Não podemos esquecer que a comparação do desempenho do jogo entre os dois computadores não deixará de ter diferenças unicamente porque estamos controlando a taxa de quadros por segundo, mas isto fará com que o andamento do jogo seja o mesmo."
   ]
  },
  {
   "cell_type": "markdown",
   "metadata": {
    "slideshow": {
     "slide_type": "slide"
    }
   },
   "source": [
    "Assim, podemos decidir qual será o hardware mínimo para nosso jogo, e o jogo que rodar bem no hardware mínimo, rodará bem nos mais avançados também.\n",
    "\n",
    "Framerate não é o único fator que fará diferença no desempenho geral do jogo, mas é um fator importante.\n",
    "\n",
    "O mínimo necessário para que o cérebro humano perceba uma sequencia de imagens como movimento é 15 frames. Para movimento fluido, usa-se valores a partir de 24. (o mínimo usado no cinema)\n",
    "\n",
    "Valores em torno de 30 a 60 costumam deixar as imagens mais nítidas, mas não melhora a fluidez do movimento."
   ]
  },
  {
   "cell_type": "markdown",
   "metadata": {
    "slideshow": {
     "slide_type": "slide"
    }
   },
   "source": [
    "Outro ponto a se pensar é a taxa de quadros dos monitores. Não adianta você criar um jogo com 120fps (frames per second) e executá-lo num monitor onde a taxa de atualização da tela é 50HZ (50 vezes por segundo).\n",
    "\n",
    "Assim, você terá um bocado para pensar quanto à taxa de quadros quando for preparar seu jogo.\n",
    "\n",
    "Uma coisa que você pode estar se perguntando é o que deve estar no seu game loop de uma forma geral, e a resposta é simples. Tudo que deva ser feito a cada iteração do jogo.\n",
    "\n",
    "O ideal é que seu gameloop chame métodos no lugar de ter tudo ali dentro bagunçado."
   ]
  },
  {
   "cell_type": "markdown",
   "metadata": {
    "slideshow": {
     "slide_type": "slide"
    }
   },
   "source": [
    "# Inserindo imagens em nosso jogo\n",
    "\n",
    "Antes de mais nada, vamos limpar o código de nosso jogo, removendo o contador. Nosso while fica assim:"
   ]
  },
  {
   "cell_type": "code",
   "execution_count": null,
   "metadata": {},
   "outputs": [],
   "source": [
    "clock = pygame.time.Clock()\n",
    "while True:\n",
    "    for event in pygame.event.get():\n",
    "        if event.type == QUIT:\n",
    "            exit()\n",
    "    screen.blit(pygame.Surface(screen.get_size()), (0, 0))\n",
    "    pygame.display.update()\n",
    "    time_passed = clock.tick(30) "
   ]
  },
  {
   "cell_type": "markdown",
   "metadata": {
    "slideshow": {
     "slide_type": "slide"
    }
   },
   "source": [
    "Vamos adicoinar imagens a este jogo, afinal o que seria de um jogo só com uma tela preta? Nada contra pong e rogue, mas eles tinham pelo menos o preto e o branco (ou verde)\n",
    "\n",
    "Bom, sem mais devaneios. Precisamos de um background para nosso jogo. Que tal este?\n",
    "\n",
    "\n",
    "<img width=\"500\" src=\"https://lh4.googleusercontent.com/-dxNgX5_ydgI/VL3LJ32_R1I/AAAAAAAAELQ/Gmjii98Bz58/w956-h560-no/bg_big.png\">"
   ]
  },
  {
   "cell_type": "markdown",
   "metadata": {
    "slideshow": {
     "slide_type": "slide"
    }
   },
   "source": [
    "Vamos então usar esta imagem como background de nosso jogo.\n",
    "\n",
    "A imagem está com resolução de 956x560, então vamos mudar o tamanho da tela de nosso jogo para caber todo nosso background.\n",
    "\n",
    "Na aplicação onde temos:"
   ]
  },
  {
   "cell_type": "code",
   "execution_count": null,
   "metadata": {},
   "outputs": [],
   "source": [
    "screen = pygame.display.set_mode((640, 480), 0, 32)"
   ]
  },
  {
   "cell_type": "markdown",
   "metadata": {},
   "source": [
    "Vamos trocar por"
   ]
  },
  {
   "cell_type": "code",
   "execution_count": null,
   "metadata": {},
   "outputs": [],
   "source": [
    "screen = pygame.display.set_mode((956, 560), 0, 32)"
   ]
  },
  {
   "cell_type": "markdown",
   "metadata": {
    "slideshow": {
     "slide_type": "slide"
    }
   },
   "source": [
    "Salve a imagem na mesma pasta onde temos o arquivo helloworld.py.\n",
    "\n",
    "Vamos acrescentar uma variável para conter o nome do arquivo de background.\n",
    "\n",
    "Acrescente a seguinte linha logo após a que acabamos de alterar"
   ]
  },
  {
   "cell_type": "code",
   "execution_count": null,
   "metadata": {},
   "outputs": [],
   "source": [
    "background_filename = 'bg_big.png'"
   ]
  },
  {
   "cell_type": "markdown",
   "metadata": {},
   "source": [
    "Logo a seguir, acrescente esta linha para carregar o arquivo dentro do jogo:"
   ]
  },
  {
   "cell_type": "code",
   "execution_count": null,
   "metadata": {},
   "outputs": [],
   "source": [
    "background = pygame.image.load(background_filename).convert()"
   ]
  },
  {
   "cell_type": "markdown",
   "metadata": {
    "slideshow": {
     "slide_type": "slide"
    }
   },
   "source": [
    "Logo antes da linha com "
   ]
  },
  {
   "cell_type": "code",
   "execution_count": null,
   "metadata": {},
   "outputs": [],
   "source": [
    "pygame.display.update()"
   ]
  },
  {
   "cell_type": "markdown",
   "metadata": {},
   "source": [
    "acrescente"
   ]
  },
  {
   "cell_type": "code",
   "execution_count": null,
   "metadata": {},
   "outputs": [],
   "source": [
    "screen.blit(background, (0, 0))"
   ]
  },
  {
   "cell_type": "markdown",
   "metadata": {},
   "source": [
    "Esta linha vai fazer aparecer na tela a imagem de background"
   ]
  },
  {
   "cell_type": "code",
   "execution_count": null,
   "metadata": {},
   "outputs": [],
   "source": [
    "%run helloworld4.py"
   ]
  },
  {
   "cell_type": "markdown",
   "metadata": {
    "slideshow": {
     "slide_type": "slide"
    }
   },
   "source": [
    "Vamos agora adicionar outra imagem, para a nave espacial\n",
    "\n",
    "<img src=\"https://lh5.googleusercontent.com/-CIsSIsZbr4o/VL3Uu1OOOzI/AAAAAAAAEL0/tdcsM73SPmU/s48-no/ship.png\">\n",
    "\n",
    "Logo após os comandos que acidionam o arquivo do background adicione:"
   ]
  },
  {
   "cell_type": "code",
   "execution_count": null,
   "metadata": {},
   "outputs": [],
   "source": [
    "ship_filename = 'ship.png'\n",
    "ship = pygame.image.load(ship_filename).convert_alpha()"
   ]
  },
  {
   "cell_type": "markdown",
   "metadata": {},
   "source": [
    "E logo após o `screen.blit` do arquivo de background, adicione para o arquivo da nave também"
   ]
  },
  {
   "cell_type": "code",
   "execution_count": null,
   "metadata": {},
   "outputs": [],
   "source": [
    "screen.blit(ship, (0, 0))"
   ]
  },
  {
   "cell_type": "code",
   "execution_count": null,
   "metadata": {},
   "outputs": [],
   "source": [
    "%run helloworld5.py"
   ]
  },
  {
   "cell_type": "markdown",
   "metadata": {
    "slideshow": {
     "slide_type": "slide"
    }
   },
   "source": [
    "Desta vez usamos `convert_alpha()` porque nossa imagem da nave contém áreas transparentes, e se usássemos somente `convert()` estas áreas seriam convertidas para branco, o que não seria nada legal.\n",
    "\n",
    "Finalmente, chamamos o método `blit()` do screen para a nave após chamar para o fundo. Se fosse ao contrário, o fundo iria ficar sobre a nave e ela não seria visível.\n",
    "\n",
    "Ou seja a ordem em que você torna as imagens visíveis faz diferença."
   ]
  },
  {
   "cell_type": "markdown",
   "metadata": {
    "slideshow": {
     "slide_type": "slide"
    }
   },
   "source": [
    "# Localização das imagens na tela\n",
    "\n",
    "Da forma como fizemos, inserimos a imagem na tela na posição (0, 0). Vamos então modificar a posição de nossa nave para (300, 200).\n",
    "\n",
    "Para isto, altere a linha\n"
   ]
  },
  {
   "cell_type": "code",
   "execution_count": null,
   "metadata": {},
   "outputs": [],
   "source": [
    "screen.blit(ship, (0, 0))"
   ]
  },
  {
   "cell_type": "markdown",
   "metadata": {},
   "source": [
    "para"
   ]
  },
  {
   "cell_type": "code",
   "execution_count": null,
   "metadata": {},
   "outputs": [],
   "source": [
    "screen.blit(ship, (300, 200))"
   ]
  },
  {
   "cell_type": "code",
   "execution_count": null,
   "metadata": {},
   "outputs": [],
   "source": [
    "%run helloworld6.py"
   ]
  },
  {
   "cell_type": "markdown",
   "metadata": {
    "slideshow": {
     "slide_type": "slide"
    }
   },
   "source": [
    "# Movimento\n",
    "\n",
    "Você já deve ter reparado, mas o primeiro valor da tupla passada para o método `blit` é a distância horizontal e o segundo valor é a distância vertical.\n",
    "\n",
    "Vamos começar com movimento horizontal. Acrescente antes de"
   ]
  },
  {
   "cell_type": "code",
   "execution_count": null,
   "metadata": {},
   "outputs": [],
   "source": [
    "pygame.display.set_caption('Hello World')"
   ]
  },
  {
   "cell_type": "markdown",
   "metadata": {},
   "source": [
    "as seguintes linha, onde vamos guardar a posição da nave e a sua velocidade"
   ]
  },
  {
   "cell_type": "code",
   "execution_count": null,
   "metadata": {},
   "outputs": [],
   "source": [
    "ship_position = [0, 280]\n",
    "speed = 3"
   ]
  },
  {
   "cell_type": "markdown",
   "metadata": {
    "slideshow": {
     "slide_type": "slide"
    }
   },
   "source": [
    "Vamos substituir a tupla do comando de `blit` pela posição que acabamos de criar"
   ]
  },
  {
   "cell_type": "code",
   "execution_count": null,
   "metadata": {},
   "outputs": [],
   "source": [
    "screen.blit(ship, ship_position)"
   ]
  },
  {
   "cell_type": "markdown",
   "metadata": {},
   "source": [
    "E logo antes deste comando vamos alterar a posição da nave a cada ciclo"
   ]
  },
  {
   "cell_type": "code",
   "execution_count": null,
   "metadata": {},
   "outputs": [],
   "source": [
    "ship_position[0] += speed"
   ]
  },
  {
   "cell_type": "code",
   "execution_count": null,
   "metadata": {},
   "outputs": [],
   "source": [
    "%run helloworld7.py"
   ]
  },
  {
   "cell_type": "markdown",
   "metadata": {
    "slideshow": {
     "slide_type": "slide"
    }
   },
   "source": [
    "Legal! O movimento vertical é feito de forma muito semelhante. A principal diferença é que vamos adicionar valores à segunda posição da valocidade."
   ]
  },
  {
   "cell_type": "code",
   "execution_count": null,
   "metadata": {},
   "outputs": [],
   "source": [
    "ship_position[1] += speed"
   ]
  },
  {
   "cell_type": "markdown",
   "metadata": {
    "slideshow": {
     "slide_type": "-"
    }
   },
   "source": [
    "Vamos também alterar a posição inicial para o movimento vertical ficar mais tempo na tela."
   ]
  },
  {
   "cell_type": "code",
   "execution_count": null,
   "metadata": {},
   "outputs": [],
   "source": [
    "ship_position = [478, 0]"
   ]
  },
  {
   "cell_type": "code",
   "execution_count": null,
   "metadata": {},
   "outputs": [],
   "source": [
    "%run helloworld8.py"
   ]
  },
  {
   "cell_type": "markdown",
   "metadata": {
    "slideshow": {
     "slide_type": "slide"
    }
   },
   "source": [
    "Porém dificilmente um objeto se moverá somente em uma direção na tela então vamos mudar isto também.\n",
    "Vamos transformar a velocidade em uma tupla"
   ]
  },
  {
   "cell_type": "code",
   "execution_count": null,
   "metadata": {},
   "outputs": [],
   "source": [
    "speed = (3, 2)"
   ]
  },
  {
   "cell_type": "markdown",
   "metadata": {},
   "source": [
    "Também trocaremos a posição inicial para (0, 0)"
   ]
  },
  {
   "cell_type": "code",
   "execution_count": null,
   "metadata": {},
   "outputs": [],
   "source": [
    "ship_position = [0, 0]"
   ]
  },
  {
   "cell_type": "markdown",
   "metadata": {
    "slideshow": {
     "slide_type": "slide"
    }
   },
   "source": [
    "Além disto, a posição tem que ser alterada em seus dois valores não só horizontal ou verticalmente"
   ]
  },
  {
   "cell_type": "code",
   "execution_count": null,
   "metadata": {},
   "outputs": [],
   "source": [
    "ship_position[0] += speed[0]\n",
    "ship_position[1] += speed[1]"
   ]
  },
  {
   "cell_type": "code",
   "execution_count": null,
   "metadata": {
    "slideshow": {
     "slide_type": "-"
    }
   },
   "outputs": [],
   "source": [
    "%run helloworld9.py"
   ]
  },
  {
   "cell_type": "markdown",
   "metadata": {
    "slideshow": {
     "slide_type": "slide"
    }
   },
   "source": [
    "# Controlando Movimento: Input\n",
    "\n",
    "Antes de mais nada, para aumentar a legibilidade, vamos colocar a velocidade como um dicionário no lugar de uma tupla."
   ]
  },
  {
   "cell_type": "code",
   "execution_count": null,
   "metadata": {},
   "outputs": [],
   "source": [
    "speed = {'x': 0, 'y': 0}"
   ]
  },
  {
   "cell_type": "markdown",
   "metadata": {},
   "source": [
    "Também, temos que ajustar como alteramos a posição da nave a cada ciclo"
   ]
  },
  {
   "cell_type": "code",
   "execution_count": null,
   "metadata": {},
   "outputs": [],
   "source": [
    "ship_position[0] += speed['x']\n",
    "ship_position[1] += speed['y']"
   ]
  },
  {
   "cell_type": "markdown",
   "metadata": {},
   "source": [
    "Se você executar o jogo agora verá que a nave permanece parada, mas isso logo será ajustado. Para isto precisamos aprender a capturar os inputs de teclado."
   ]
  },
  {
   "cell_type": "markdown",
   "metadata": {
    "slideshow": {
     "slide_type": "slide"
    }
   },
   "source": [
    "Logo após o for onde verificamos o evento de fechamento da tela"
   ]
  },
  {
   "cell_type": "code",
   "execution_count": null,
   "metadata": {},
   "outputs": [],
   "source": [
    "for event in pygame.event.get():\n",
    "    if event.type == QUIT:\n",
    "            exit()"
   ]
  },
  {
   "cell_type": "markdown",
   "metadata": {},
   "source": [
    "adicione os seguintes comandos"
   ]
  },
  {
   "cell_type": "code",
   "execution_count": null,
   "metadata": {},
   "outputs": [],
   "source": [
    "pressed_keys = pygame.key.get_pressed()\n",
    "\n",
    "if pressed_keys[K_UP]:\n",
    "    speed['y'] = -5\n",
    "elif pressed_keys[K_DOWN]:\n",
    "    speed['y'] = 5\n",
    "if pressed_keys[K_LEFT]:\n",
    "    speed['x'] = -5\n",
    "elif pressed_keys[K_RIGHT]:\n",
    "    speed['x'] = 5"
   ]
  },
  {
   "cell_type": "code",
   "execution_count": null,
   "metadata": {
    "slideshow": {
     "slide_type": "-"
    }
   },
   "outputs": [],
   "source": [
    "%run helloworld10.py"
   ]
  },
  {
   "cell_type": "markdown",
   "metadata": {
    "slideshow": {
     "slide_type": "slide"
    }
   },
   "source": [
    "Visivelmente, quando apertamos as teclas direcionais do teclado conseguimos mover a nave, porém, ela esta continua se movendo após soltarmos a tecla.\n",
    "\n",
    "Para corrigir isto, basta colocar a atribuição inicial da velocidade dentro do nosso loop. Assim, mova a linha"
   ]
  },
  {
   "cell_type": "code",
   "execution_count": null,
   "metadata": {},
   "outputs": [],
   "source": [
    "speed = {'x': 0, 'y': 0}"
   ]
  },
  {
   "cell_type": "markdown",
   "metadata": {},
   "source": [
    "Para logo após o início do loop que ficará assim"
   ]
  },
  {
   "cell_type": "code",
   "execution_count": null,
   "metadata": {},
   "outputs": [],
   "source": [
    "while True:\n",
    "    speed = {'x': 0, 'y': 0}"
   ]
  },
  {
   "cell_type": "code",
   "execution_count": null,
   "metadata": {
    "slideshow": {
     "slide_type": "-"
    }
   },
   "outputs": [],
   "source": [
    "%run helloworld11.py"
   ]
  },
  {
   "cell_type": "markdown",
   "metadata": {
    "slideshow": {
     "slide_type": "slide"
    }
   },
   "source": [
    "# Adicionando o desafio: asteróides\n",
    "\n",
    "Agora já está ficando mais parecido com um jogo!\n",
    "\n",
    "Chegou a hora de adicionar o desafio que nossa nave terá de enfrentar. Asteróides.\n",
    "\n",
    "A imagem que vamos usar para o asteróid será esta aqui\n",
    "\n",
    "<img src=\"https://lh3.googleusercontent.com/-Nt6fHyewwrM/VMLJBAEcQNI/AAAAAAAAENY/ac1-sd89-zU/s64-no/asteroid.png\">"
   ]
  },
  {
   "cell_type": "markdown",
   "metadata": {
    "slideshow": {
     "slide_type": "slide"
    }
   },
   "source": [
    "Vamos criar um método que crie asteróides. Este método deve ser escrito antes do `while` e depende de randrange do pacote random, então importe randrange no início do arquivo"
   ]
  },
  {
   "cell_type": "code",
   "execution_count": null,
   "metadata": {},
   "outputs": [],
   "source": [
    "from random import randrange"
   ]
  },
  {
   "cell_type": "markdown",
   "metadata": {},
   "source": [
    "E crie o método"
   ]
  },
  {
   "cell_type": "code",
   "execution_count": null,
   "metadata": {},
   "outputs": [],
   "source": [
    "def create_asteroid():\n",
    "    return {\n",
    "        'surface': pygame.image.load('asteroid.png').convert_alpha(),\n",
    "        'position': [randrange(892), -64],\n",
    "        'speed': randrange(1, 11)\n",
    "    }"
   ]
  },
  {
   "cell_type": "markdown",
   "metadata": {
    "slideshow": {
     "slide_type": "slide"
    }
   },
   "source": [
    "Este método retorna um dicionário contendo o arquivo de imagem importado para o jogo, sua posição inicial que será ligeiramente acima da tela e uma velocidade inicial. A velocidade dos asteróides será sempre verical.\n",
    "\n",
    "Vamos precisar também de uma lista de asteróides, pois, não tem graça ter um asteróide só.\n",
    "\n",
    "Esta variável pode ser criada antes do método `create_asteroid`"
   ]
  },
  {
   "cell_type": "code",
   "execution_count": null,
   "metadata": {},
   "outputs": [],
   "source": [
    "asteroids = []"
   ]
  },
  {
   "cell_type": "markdown",
   "metadata": {
    "slideshow": {
     "slide_type": "slide"
    }
   },
   "source": [
    "Precisamos de um contador para determinar em que momento os asteróides vão ser criados. Usaremos 90 ciclos (3 segundos).\n",
    "\n",
    "Assim, criamos junto à variável asteroids."
   ]
  },
  {
   "cell_type": "code",
   "execution_count": null,
   "metadata": {},
   "outputs": [],
   "source": [
    "ticks_to_asteroid = 90"
   ]
  },
  {
   "cell_type": "markdown",
   "metadata": {},
   "source": [
    "Já dentro do while, vamos criar uma verificação para sabermos se já é hora de criar um novo asteróid. O início do while fica assim então"
   ]
  },
  {
   "cell_type": "code",
   "execution_count": null,
   "metadata": {},
   "outputs": [],
   "source": [
    "ticks = 0\n",
    "while True:\n",
    "    if ticks < ticks_to_asteroid:\n",
    "        ticks += 1\n",
    "    else:\n",
    "        ticks = 0\n",
    "        asteroids.append(create_asteroid())"
   ]
  },
  {
   "cell_type": "markdown",
   "metadata": {
    "slideshow": {
     "slide_type": "slide"
    }
   },
   "source": [
    "Já conseguimos criar uma lista de asteróids agora, mas eles ainda não aparecem na tela. para isto, temos que fazer com que cada asteróide da lista seja adicionado à tela.\n",
    "\n",
    "Logo após"
   ]
  },
  {
   "cell_type": "code",
   "execution_count": null,
   "metadata": {},
   "outputs": [],
   "source": [
    "screen.blit(ship, ship_position)"
   ]
  },
  {
   "cell_type": "markdown",
   "metadata": {},
   "source": [
    "Adicione"
   ]
  },
  {
   "cell_type": "code",
   "execution_count": null,
   "metadata": {},
   "outputs": [],
   "source": [
    "for asteroid in asteroids:\n",
    "    screen.blit(asteroid['surface'], asteroid['position'])"
   ]
  },
  {
   "cell_type": "markdown",
   "metadata": {
    "slideshow": {
     "slide_type": "slide"
    }
   },
   "source": [
    "Porém os asteróides ainda não aparecem na tela pois eles são criados fora da tela e lá ficam. Vamos mudar isto criando uma função que move os asteróides presentes na tela a cada ciclo."
   ]
  },
  {
   "cell_type": "code",
   "execution_count": null,
   "metadata": {},
   "outputs": [],
   "source": [
    "def move_asteroids():\n",
    "    for asteroid in asteroids:\n",
    "        asteroid['position'][1] += asteroid['speed']"
   ]
  },
  {
   "cell_type": "markdown",
   "metadata": {},
   "source": [
    "Esta função pode ser criada logo após a função create_asteroid. Agora precisamos chamá-la antes de desenharmos os asteróides na tela. Insira a chamada logo após desenharmos a nave, assim:\n"
   ]
  },
  {
   "cell_type": "code",
   "execution_count": null,
   "metadata": {},
   "outputs": [],
   "source": [
    "screen.blit(ship, ship_position)\n",
    "move_asteroids()"
   ]
  },
  {
   "cell_type": "markdown",
   "metadata": {
    "slideshow": {
     "slide_type": "slide"
    }
   },
   "source": [
    "Uma ultima coisa importante para fazer neste momento é remover os asteróides usados para que esses não sobrecarreguem a memória.\n",
    "\n",
    "Para isto, criaremos mais um método"
   ]
  },
  {
   "cell_type": "code",
   "execution_count": null,
   "metadata": {},
   "outputs": [],
   "source": [
    "def remove_used_asteroids():\n",
    "    for asteroid in asteroids:\n",
    "        if asteroid['position'][1] > 560:\n",
    "            asteroids.remove(asteroid)"
   ]
  },
  {
   "cell_type": "markdown",
   "metadata": {},
   "source": [
    "Este método pode ser chamado em qualquer momento dentro do `while`"
   ]
  },
  {
   "cell_type": "code",
   "execution_count": null,
   "metadata": {},
   "outputs": [],
   "source": [
    "remove_used_asteroids()"
   ]
  },
  {
   "cell_type": "code",
   "execution_count": null,
   "metadata": {},
   "outputs": [],
   "source": [
    "%run helloworld12.py"
   ]
  },
  {
   "cell_type": "markdown",
   "metadata": {
    "slideshow": {
     "slide_type": "slide"
    }
   },
   "source": [
    "# Adicionando desafio: Colisão\n",
    "\n",
    "Agora que temos asteróides vindo em nossa direção, precisamos que ocorra algo caso o asteróide bata na nave. Para isto precisamos detectar se há colisão entre algum asteróide e a nave.\n",
    "\n",
    "Nosso primeiro passo vai ser transformar as informações de nossa nave num objeto como fizemos com os asteróides, usando um dicionário."
   ]
  },
  {
   "cell_type": "markdown",
   "metadata": {
    "slideshow": {
     "slide_type": "slide"
    }
   },
   "source": [
    "As seguintes linhas referentes à nave"
   ]
  },
  {
   "cell_type": "code",
   "execution_count": null,
   "metadata": {},
   "outputs": [],
   "source": [
    "ship_filename = 'ship.png'\n",
    "ship = pygame.image.load(ship_filename).convert_alpha()\n",
    "ship_position = [0, 0]"
   ]
  },
  {
   "cell_type": "markdown",
   "metadata": {},
   "source": [
    "Dão lugar a este dicionário (vamos iniciar a posição da nave aleatoriamente)"
   ]
  },
  {
   "cell_type": "code",
   "execution_count": null,
   "metadata": {},
   "outputs": [],
   "source": [
    "ship = {\n",
    "    'surface': pygame.image.load('ship.png').convert_alpha(),\n",
    "    'position': [randrange(956), randrange(560)],\n",
    "    'speed': {\n",
    "        'x': 0,\n",
    "        'y': 0\n",
    "    }\n",
    "}"
   ]
  },
  {
   "cell_type": "markdown",
   "metadata": {
    "slideshow": {
     "slide_type": "slide"
    }
   },
   "source": [
    "Dentro do nosso `while`, onde tínhamos"
   ]
  },
  {
   "cell_type": "code",
   "execution_count": null,
   "metadata": {},
   "outputs": [],
   "source": [
    "speed = {'x': 0, 'y': 0}"
   ]
  },
  {
   "cell_type": "markdown",
   "metadata": {},
   "source": [
    "Agora passará a ser"
   ]
  },
  {
   "cell_type": "code",
   "execution_count": null,
   "metadata": {},
   "outputs": [],
   "source": [
    "ship['speed'] = {'x': 0, 'y': 0}"
   ]
  },
  {
   "cell_type": "markdown",
   "metadata": {},
   "source": [
    "pois agora os valores da velocidade da nave ficam salvos dentro do objeto ship"
   ]
  },
  {
   "cell_type": "markdown",
   "metadata": {
    "slideshow": {
     "slide_type": "slide"
    }
   },
   "source": [
    "Onde detectamos as teclas pressionadas também deverá ser alterado para ficar assim"
   ]
  },
  {
   "cell_type": "code",
   "execution_count": null,
   "metadata": {},
   "outputs": [],
   "source": [
    "if pressed_keys[K_UP]:\n",
    "    ship['speed']['y'] = -5\n",
    "elif pressed_keys[K_DOWN]:\n",
    "    ship['speed']['y'] = 5\n",
    "\n",
    "if pressed_keys[K_LEFT]:\n",
    "    ship['speed']['x'] = -5\n",
    "elif pressed_keys[K_RIGHT]:\n",
    "    ship['speed']['x'] = 5"
   ]
  },
  {
   "cell_type": "markdown",
   "metadata": {
    "slideshow": {
     "slide_type": "slide"
    }
   },
   "source": [
    "Moveremos a nave assim"
   ]
  },
  {
   "cell_type": "code",
   "execution_count": null,
   "metadata": {},
   "outputs": [],
   "source": [
    "ship['position'][0] += ship['speed']['x']\n",
    "ship['position'][1] += ship['speed']['y']"
   ]
  },
  {
   "cell_type": "markdown",
   "metadata": {},
   "source": [
    "E vamos desenhá-la na tela assim"
   ]
  },
  {
   "cell_type": "code",
   "execution_count": null,
   "metadata": {},
   "outputs": [],
   "source": [
    "screen.blit(ship['surface'], ship['position'])"
   ]
  },
  {
   "cell_type": "markdown",
   "metadata": {
    "slideshow": {
     "slide_type": "slide"
    }
   },
   "source": [
    "Finalmente, podemos criar uma função antes do nosso `while` que vai receber um objeto e calcular seu retângulo baseada nas informações contidas no objeto."
   ]
  },
  {
   "cell_type": "code",
   "execution_count": null,
   "metadata": {},
   "outputs": [],
   "source": [
    "def get_rect(obj):\n",
    "    return Rect(obj['position'][0],\n",
    "                obj['position'][1],\n",
    "                obj['surface'].get_width(),\n",
    "                obj['surface'].get_height())"
   ]
  },
  {
   "cell_type": "markdown",
   "metadata": {},
   "source": [
    "`Rect` é uma classe do próprio Pygame"
   ]
  },
  {
   "cell_type": "markdown",
   "metadata": {
    "slideshow": {
     "slide_type": "slide"
    }
   },
   "source": [
    "Também antes do `while` vamos criar outra função, esta para detectar se houve colisão com asteróides."
   ]
  },
  {
   "cell_type": "code",
   "execution_count": null,
   "metadata": {},
   "outputs": [],
   "source": [
    "def ship_collided():\n",
    "    ship_rect = get_rect(ship)\n",
    "    for asteroid in asteroids:\n",
    "        if ship_rect.colliderect(get_rect(asteroid)):\n",
    "            return True\n",
    "    return False"
   ]
  },
  {
   "cell_type": "markdown",
   "metadata": {},
   "source": [
    "Aqui, pegamos o retângulo da nave, e para cada asteróide, verificamos se houve colisão entre a nave e o asteróide"
   ]
  },
  {
   "cell_type": "markdown",
   "metadata": {
    "slideshow": {
     "slide_type": "slide"
    }
   },
   "source": [
    "Ainda antes do `while` vamos criar uma variável chamada `collided` para marcar se houve colisão com o valor False"
   ]
  },
  {
   "cell_type": "code",
   "execution_count": null,
   "metadata": {},
   "outputs": [],
   "source": [
    "collided = False"
   ]
  },
  {
   "cell_type": "markdown",
   "metadata": {},
   "source": [
    "Caso haja colisão a nave deixará de existir, então temos de parar de cumputar sua posição e de mostrá-la na tela."
   ]
  },
  {
   "cell_type": "markdown",
   "metadata": {
    "slideshow": {
     "slide_type": "slide"
    }
   },
   "source": [
    "Onde havia"
   ]
  },
  {
   "cell_type": "code",
   "execution_count": null,
   "metadata": {
    "slideshow": {
     "slide_type": "-"
    }
   },
   "outputs": [],
   "source": [
    "ship['position'][0] += ship['speed']['x']\n",
    "ship['position'][1] += ship['speed']['y']"
   ]
  },
  {
   "cell_type": "markdown",
   "metadata": {},
   "source": [
    "e"
   ]
  },
  {
   "cell_type": "code",
   "execution_count": null,
   "metadata": {},
   "outputs": [],
   "source": [
    "screen.blit(ship['surface'], ship['position'])"
   ]
  },
  {
   "cell_type": "markdown",
   "metadata": {},
   "source": [
    "fica"
   ]
  },
  {
   "cell_type": "code",
   "execution_count": null,
   "metadata": {},
   "outputs": [],
   "source": [
    "if not collided:\n",
    "        collided = ship_collided()\n",
    "        ship['position'][0] += ship['speed']['x']\n",
    "        ship['position'][1] += ship['speed']['y']\n",
    "        screen.blit(ship['surface'], ship['position'])"
   ]
  },
  {
   "cell_type": "code",
   "execution_count": 43,
   "metadata": {
    "slideshow": {
     "slide_type": "-"
    }
   },
   "outputs": [],
   "source": [
    "%run helloworld13.py"
   ]
  },
  {
   "cell_type": "code",
   "execution_count": null,
   "metadata": {},
   "outputs": [],
   "source": []
  }
 ],
 "metadata": {
  "celltoolbar": "Slideshow",
  "kernelspec": {
   "display_name": "Python 3",
   "language": "python",
   "name": "python3"
  },
  "language_info": {
   "codemirror_mode": {
    "name": "ipython",
    "version": 3
   },
   "file_extension": ".py",
   "mimetype": "text/x-python",
   "name": "python",
   "nbconvert_exporter": "python",
   "pygments_lexer": "ipython3",
   "version": "3.6.2"
  }
 },
 "nbformat": 4,
 "nbformat_minor": 2
}
