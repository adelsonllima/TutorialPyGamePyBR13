{
 "cells": [
  {
   "cell_type": "markdown",
   "metadata": {
    "slideshow": {
     "slide_type": "slide"
    }
   },
   "source": [
    "# Tutorial de Pygame PyBR13\n",
    "\n",
    "\n",
    "\n",
    "\n",
    "### Julio Melanda\n",
    "\n",
    "#### Python Brasil 13\n",
    "\n",
    "##### Outubro, 2017\n"
   ]
  },
  {
   "cell_type": "markdown",
   "metadata": {
    "slideshow": {
     "slide_type": "slide"
    }
   },
   "source": [
    "# Pygame\n",
    "\n",
    "Pygame é uma game engine escrita em python que permite o uso de OpenGL ou SDL para criar jogos.\n",
    "\n",
    "Pygame pode ser usada tanto para criar jogos 2D quanto 3D."
   ]
  },
  {
   "cell_type": "markdown",
   "metadata": {
    "slideshow": {
     "slide_type": "slide"
    }
   },
   "source": [
    "# Primeiros passos\n",
    "\n",
    "Primeiro, com Python devidamente instalado, instalamos pygame no ambiente virtual com\n",
    "```\n",
    "pip install pygame\n",
    "``` \n",
    "Após a instalação do pygame, vamos testar.\n",
    "\n",
    "Acesse o shell do python e rode os comandos:"
   ]
  },
  {
   "cell_type": "code",
   "execution_count": null,
   "metadata": {},
   "outputs": [],
   "source": [
    "import pygame\n",
    "print(pygame.version.ver)"
   ]
  },
  {
   "cell_type": "markdown",
   "metadata": {
    "slideshow": {
     "slide_type": "slide"
    }
   },
   "source": [
    "# Hello World\n",
    "\n",
    "Vamos começar como sempre começamos algo novo, não?\n",
    "\n",
    "Copie o código para um arquivo .py e salve. helloworld.py é um bom nome, não?\n",
    "\n",
    "O código pode parecer um pouco complexo a princípio, mas vamos vê-lo ponto a ponto."
   ]
  },
  {
   "cell_type": "code",
   "execution_count": null,
   "metadata": {
    "slideshow": {
     "slide_type": "slide"
    }
   },
   "outputs": [],
   "source": [
    "#! /usr/bin/env python\n",
    "import pygame\n",
    "from pygame.locals import *\n",
    "from sys import exit\n",
    "\n",
    "pygame.init()\n",
    "\n",
    "screen = pygame.display.set_mode((640, 480), 0, 32)\n",
    "\n",
    "pygame.display.set_caption('Hello World')\n",
    "\n",
    "while True:\n",
    "    for event in pygame.event.get():\n",
    "        if event.type == QUIT:\n",
    "            exit()\n",
    "    screen.blit(pygame.Surface(screen.get_size()), (0, 0))\n",
    "    pygame.display.update()"
   ]
  },
  {
   "cell_type": "markdown",
   "metadata": {
    "slideshow": {
     "slide_type": "slide"
    }
   },
   "source": [
    "# Executando\n",
    "\n",
    "Execute o programa com\n",
    "\n",
    "```\n",
    "python helloworld.\n",
    "```"
   ]
  },
  {
   "cell_type": "code",
   "execution_count": null,
   "metadata": {},
   "outputs": [],
   "source": [
    "%run helloworld.py"
   ]
  },
  {
   "cell_type": "markdown",
   "metadata": {
    "slideshow": {
     "slide_type": "notes"
    }
   },
   "source": [
    "Vamos agora aos detalhes?\n",
    "\n",
    "A linha 1 indica para o bash em sistemas Unix-like que se executarmos diretamente o script, o conteúdo deve ser tratado pelo interpretador do Python.\n",
    "\n",
    "Na linha seguinte, importamos o pygame.\n",
    "\n",
    "Em seguida, importamos todas as constantes e funções que o pygame fornece por padrão no módulo pygame.locals. Finalmente fechamos os imports imporatndo exit, que nos permite finalizar o programa retornando um status, que pode ser usado para verificação de erros, por exemplo. O padrão para uma execução de sucesso é 0.\n",
    "\n",
    "A próxima linha é uma das mais importantes, pois ela que permite usarmos a engine do pygame. pygame.init() vai preparar a engine para podermos iniciar nosso jogo!\n",
    "\n",
    "O próximo passo é criar a superfície basica do jogo. Nela serão plotados todos os pixels do jogo, assim, chamamos esta superfície de screen.\n",
    "\n",
    "A última configuração feita é setar o título da tela, que será \"Hello World\".\n",
    "\n",
    "Agora, temo um while infinito. Dentro dele, verificamos os eventos que o pygame recebe. Pygame pode tratar uma grande quantidade de eventos.\n",
    "\n",
    "Quando o evento detectado for QUIT, que é ativado pelo clique no X de fechar a janela, o programa será encerrado. Depois desta verificação, adicionamos uma superfície totalmente preta e do mesmo tamanho de nossa tela. Este será o fundo de nosso jogo.\n",
    "\n",
    "O último passo é mandar a tela atualizar."
   ]
  },
  {
   "cell_type": "markdown",
   "metadata": {
    "slideshow": {
     "slide_type": "slide"
    }
   },
   "source": [
    "# Game Loop\n",
    "\n",
    "Este while abaixo é o que chamamos de game loop.\n",
    "\n",
    "Um while infinito, que vai ser usado a cada iteração do game, para tratar eventos e atualizar a tela."
   ]
  },
  {
   "cell_type": "code",
   "execution_count": null,
   "metadata": {},
   "outputs": [],
   "source": [
    "while True:\n",
    "    for event in pygame.event.get():\n",
    "        if event.type == QUIT:\n",
    "            exit()\n",
    "    screen.blit(pygame.Surface(screen.get_size()), (0, 0))\n",
    "    pygame.display.update()"
   ]
  },
  {
   "cell_type": "markdown",
   "metadata": {
    "slideshow": {
     "slide_type": "slide"
    }
   },
   "source": [
    "Agora vamos mudar este while para o seguinte código"
   ]
  },
  {
   "cell_type": "code",
   "execution_count": null,
   "metadata": {},
   "outputs": [],
   "source": [
    "count = 0\n",
    "while True:\n",
    "    for event in pygame.event.get():\n",
    "        if event.type == QUIT:\n",
    "            print(count)\n",
    "            exit()\n",
    "    count += 1\n",
    "    screen.blit(pygame.Surface(screen.get_size()), (0, 0))\n",
    "    pygame.display.update() "
   ]
  },
  {
   "cell_type": "markdown",
   "metadata": {
    "slideshow": {
     "slide_type": "slide"
    }
   },
   "source": [
    "Imagine este código sendo executado em duas máquinas diferentes, uma com um processador de 800MHz e outra com processador de 2.5GHz\n",
    "\n",
    "É bastante plausível imaginar que ao finalizarmos a execução do código com o mesmo tempo em ambas máquinas, haverá uma diferença enorme na contagem de ciclos, tendo a máquina com processador de 2.5 GHz uma contagem muito maior que a de 800 MHz.\n",
    "\n",
    "Vamos experimentar."
   ]
  },
  {
   "cell_type": "code",
   "execution_count": null,
   "metadata": {},
   "outputs": [],
   "source": [
    "%run helloworld2.py"
   ]
  },
  {
   "cell_type": "markdown",
   "metadata": {
    "slideshow": {
     "slide_type": "slide"
    }
   },
   "source": [
    "Na prática, isto significa que o jogo roda mais rápido em máquinas mais rápidas e mais devagar nas mais lentas. O problema é que isto pode gerar sérios problemas para o jogador.\n",
    "\n",
    "Imagine um jogo projetado no computador de 800 MHz e que roda muito mais rápido na máquina de 2.5 GHz. Os obstáculos se movendo muito mais rápido do que deveriam, podem tornar o jogo simplesmente impossível de jogar.\n",
    "\n",
    "Para isto, temos um recurso que permite controlar a quantidade de ciclos máximos em um segundo.\n",
    "\n",
    "```\n",
    "pygame.time.Clock()\n",
    "```"
   ]
  },
  {
   "cell_type": "markdown",
   "metadata": {
    "slideshow": {
     "slide_type": "slide"
    }
   },
   "source": [
    "Vamos alterar nosso game loop para usá-lo"
   ]
  },
  {
   "cell_type": "code",
   "execution_count": null,
   "metadata": {
    "slideshow": {
     "slide_type": "-"
    }
   },
   "outputs": [],
   "source": [
    "count = 0\n",
    "clock = pygame.time.Clock()\n",
    "while True:\n",
    "    for event in pygame.event.get():\n",
    "        if event.type == QUIT:\n",
    "            exit()\n",
    "    count += 1\n",
    "    print(count)\n",
    "    screen.blit(pygame.Surface(screen.get_size()), (0, 0))\n",
    "    pygame.display.update()\n",
    "    time_passed = clock.tick(30)"
   ]
  },
  {
   "cell_type": "code",
   "execution_count": null,
   "metadata": {},
   "outputs": [],
   "source": [
    "%run helloworld3.py"
   ]
  },
  {
   "cell_type": "markdown",
   "metadata": {
    "slideshow": {
     "slide_type": "slide"
    }
   },
   "source": [
    "Na realidade, `time_passes` e o parâmetro `30` não são necessários.\n",
    "\n",
    "`clock.tick` retorna um valor em milisegundos referente a quanto tempo passou desde sua última chamada. Assim, `time_passed` pode ser uma informação valiosa para muits jogos. Já o parâmetro que usamos (30) é um limitador. Ao fazermos `clock.tick(30)` o pygame irá garantir que o jogo não execute mais de 30 iterações por segundo.\n",
    "\n",
    "Não podemos esquecer que a comparação do desempenho do jogo entre os dois computadores não deixará de ter diferenças unicamente porque estamos controlando a taxa de quadros por segundo, mas isto fará com que o andamento do jogo seja o mesmo."
   ]
  },
  {
   "cell_type": "markdown",
   "metadata": {
    "slideshow": {
     "slide_type": "slide"
    }
   },
   "source": [
    "Assim, podemos decidir qual será o hardware mínimo para nosso jogo, e o jogo que rodar bem no hardware mínimo, rodará bem nos mais avançados também.\n",
    "\n",
    "Framerate não é o único fator que fará diferença no desempenho geral do jogo, mas é um fator importante.\n",
    "\n",
    "O mínimo necessário para que o cérebro humano perceba uma sequencia de imagens como movimento é 15 frames. Para movimento fluido, usa-se valores a partir de 24. (o mínimo usado no cinema)\n",
    "\n",
    "Valores em torno de 30 a 60 costumam deixar as imagens mais nítidas, mas não melhora a fluidez do movimento."
   ]
  },
  {
   "cell_type": "markdown",
   "metadata": {
    "slideshow": {
     "slide_type": "slide"
    }
   },
   "source": [
    "Outro ponto a se pensar é a taxa de quadros dos monitores. Não adianta você criar um jogo com 120fps (frames per second) e executá-lo num monitor onde a taxa de atualização da tela é 50HZ (50 vezes por segundo).\n",
    "\n",
    "Assim, você terá um bocado para pensar quanto à taxa de quadros quando for preparar seu jogo.\n",
    "\n",
    "Uma coisa que você pode estar se perguntando é o que deve estar no seu game loop de uma forma geral, e a resposta é simples. Tudo que deva ser feito a cada iteração do jogo.\n",
    "\n",
    "O ideal é que seu gameloop chame métodos no lugar de ter tudo ali dentro bagunçado."
   ]
  },
  {
   "cell_type": "markdown",
   "metadata": {
    "slideshow": {
     "slide_type": "slide"
    }
   },
   "source": [
    "# Inserindo imagens em nosso jogo\n",
    "\n",
    "Antes de mais nada, vamos limpar o código de nosso jogo, removendo o contador. Nosso while fica assim:"
   ]
  },
  {
   "cell_type": "code",
   "execution_count": null,
   "metadata": {},
   "outputs": [],
   "source": [
    "clock = pygame.time.Clock()\n",
    "while True:\n",
    "    for event in pygame.event.get():\n",
    "        if event.type == QUIT:\n",
    "            exit()\n",
    "    screen.blit(pygame.Surface(screen.get_size()), (0, 0))\n",
    "    pygame.display.update()\n",
    "    time_passed = clock.tick(30) "
   ]
  },
  {
   "cell_type": "markdown",
   "metadata": {
    "slideshow": {
     "slide_type": "slide"
    }
   },
   "source": [
    "Vamos adicoinar imagens a este jogo, afinal o que seria de um jogo só com uma tela preta? Nada contra pong e rogue, mas eles tinham pelo menos o preto e o branco (ou verde)\n",
    "\n",
    "Bom, sem mais devaneios. Precisamos de um background para nosso jogo. Que tal este?\n",
    "\n",
    "\n",
    "<img width=\"500\" src=\"https://lh4.googleusercontent.com/-dxNgX5_ydgI/VL3LJ32_R1I/AAAAAAAAELQ/Gmjii98Bz58/w956-h560-no/bg_big.png\">"
   ]
  },
  {
   "cell_type": "markdown",
   "metadata": {
    "slideshow": {
     "slide_type": "slide"
    }
   },
   "source": [
    "Vamos então usar esta imagem como background de nosso jogo.\n",
    "\n",
    "A imagem está com resolução de 956x560, então vamos mudar o tamanho da tela de nosso jogo para caber todo nosso background.\n",
    "\n",
    "Na aplicação onde temos:"
   ]
  },
  {
   "cell_type": "code",
   "execution_count": null,
   "metadata": {},
   "outputs": [],
   "source": [
    "screen = pygame.display.set_mode((640, 480), 0, 32)"
   ]
  },
  {
   "cell_type": "markdown",
   "metadata": {},
   "source": [
    "Vamos trocar por"
   ]
  },
  {
   "cell_type": "code",
   "execution_count": null,
   "metadata": {},
   "outputs": [],
   "source": [
    "screen = pygame.display.set_mode((956, 560), 0, 32)"
   ]
  },
  {
   "cell_type": "markdown",
   "metadata": {
    "slideshow": {
     "slide_type": "slide"
    }
   },
   "source": [
    "Salve a imagem na mesma pasta onde temos o arquivo helloworld.py.\n",
    "\n",
    "Vamos acrescentar uma variável para conter o nome do arquivo de background.\n",
    "\n",
    "Acrescente a seguinte linha logo após a que acabamos de alterar"
   ]
  },
  {
   "cell_type": "code",
   "execution_count": null,
   "metadata": {},
   "outputs": [],
   "source": [
    "background_filename = 'bg_big.png'"
   ]
  },
  {
   "cell_type": "markdown",
   "metadata": {},
   "source": [
    "Logo a seguir, acrescente esta linha para carregar o arquivo dentro do jogo:"
   ]
  },
  {
   "cell_type": "code",
   "execution_count": null,
   "metadata": {},
   "outputs": [],
   "source": [
    "background = pygame.image.load(background_filename).convert()"
   ]
  },
  {
   "cell_type": "markdown",
   "metadata": {
    "slideshow": {
     "slide_type": "slide"
    }
   },
   "source": [
    "Logo antes da linha com "
   ]
  },
  {
   "cell_type": "code",
   "execution_count": null,
   "metadata": {},
   "outputs": [],
   "source": [
    "pygame.display.update()"
   ]
  },
  {
   "cell_type": "markdown",
   "metadata": {},
   "source": [
    "acrescente"
   ]
  },
  {
   "cell_type": "code",
   "execution_count": null,
   "metadata": {},
   "outputs": [],
   "source": [
    "screen.blit(background, (0, 0))"
   ]
  },
  {
   "cell_type": "markdown",
   "metadata": {},
   "source": [
    "Esta linha vai fazer aparecer na tela a imagem de background"
   ]
  },
  {
   "cell_type": "code",
   "execution_count": null,
   "metadata": {},
   "outputs": [],
   "source": [
    "%run helloworld4.py"
   ]
  },
  {
   "cell_type": "markdown",
   "metadata": {
    "slideshow": {
     "slide_type": "slide"
    }
   },
   "source": [
    "Vamos agora adicionar outra imagem, para a nave espacial\n",
    "\n",
    "<img src=\"https://lh5.googleusercontent.com/-CIsSIsZbr4o/VL3Uu1OOOzI/AAAAAAAAEL0/tdcsM73SPmU/s48-no/ship.png\">\n",
    "\n",
    "Logo após os comandos que acidionam o arquivo do background adicione:"
   ]
  },
  {
   "cell_type": "code",
   "execution_count": null,
   "metadata": {},
   "outputs": [],
   "source": [
    "ship_filename = 'ship.png'\n",
    "ship = pygame.image.load(ship_filename).convert_alpha()"
   ]
  },
  {
   "cell_type": "markdown",
   "metadata": {},
   "source": [
    "E logo após o `screen.blit` do arquivo de background, adicione para o arquivo da nave também"
   ]
  },
  {
   "cell_type": "code",
   "execution_count": null,
   "metadata": {},
   "outputs": [],
   "source": [
    "screen.blit(ship, (0, 0))"
   ]
  },
  {
   "cell_type": "code",
   "execution_count": null,
   "metadata": {},
   "outputs": [],
   "source": [
    "%run helloworld5.py"
   ]
  },
  {
   "cell_type": "markdown",
   "metadata": {
    "slideshow": {
     "slide_type": "slide"
    }
   },
   "source": [
    "Desta vez usamos `convert_alpha()` porque nossa imagem da nave contém áreas transparentes, e se usássemos somente `convert()` estas áreas seriam convertidas para branco, o que não seria nada legal.\n",
    "\n",
    "Finalmente, chamamos o método `blit()` do screen para a nave após chamar para o fundo. Se fosse ao contrário, o fundo iria ficar sobre a nave e ela não seria visível.\n",
    "\n",
    "Ou seja a ordem em que você torna as imagens visíveis faz diferença."
   ]
  },
  {
   "cell_type": "markdown",
   "metadata": {
    "slideshow": {
     "slide_type": "slide"
    }
   },
   "source": [
    "# Localização das imagens na tela\n",
    "\n",
    "Da forma como fizemos, inserimos a imagem na tela na posição (0, 0). Vamos então modificar a posição de nossa nave para (200, 200).\n",
    "\n",
    "Para isto, altere a linha\n"
   ]
  },
  {
   "cell_type": "code",
   "execution_count": null,
   "metadata": {},
   "outputs": [],
   "source": [
    "screen.blit(ship, (0, 0))"
   ]
  },
  {
   "cell_type": "markdown",
   "metadata": {},
   "source": [
    "para"
   ]
  },
  {
   "cell_type": "code",
   "execution_count": null,
   "metadata": {},
   "outputs": [],
   "source": [
    "screen.blit(ship, (200, 200))"
   ]
  },
  {
   "cell_type": "code",
   "execution_count": 15,
   "metadata": {},
   "outputs": [],
   "source": [
    "%run helloworld6.py"
   ]
  },
  {
   "cell_type": "markdown",
   "metadata": {
    "slideshow": {
     "slide_type": "slide"
    }
   },
   "source": []
  }
 ],
 "metadata": {
  "celltoolbar": "Slideshow",
  "kernelspec": {
   "display_name": "Python 3",
   "language": "python",
   "name": "python3"
  },
  "language_info": {
   "codemirror_mode": {
    "name": "ipython",
    "version": 3
   },
   "file_extension": ".py",
   "mimetype": "text/x-python",
   "name": "python",
   "nbconvert_exporter": "python",
   "pygments_lexer": "ipython3",
   "version": "3.6.2"
  }
 },
 "nbformat": 4,
 "nbformat_minor": 2
}
